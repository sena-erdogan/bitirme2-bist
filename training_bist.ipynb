{
 "cells": [
  {
   "cell_type": "code",
   "execution_count": 5,
   "id": "16188902",
   "metadata": {},
   "outputs": [],
   "source": [
    "import pandas as pd\n",
    "\n",
    "# read the CSV file into a pandas DataFrame\n",
    "df = pd.read_csv('bist_social_media_csv/bistsocial_media_twtsqlite_202304131040.csv')"
   ]
  },
  {
   "cell_type": "code",
   "execution_count": 6,
   "id": "34ccf17a",
   "metadata": {},
   "outputs": [],
   "source": [
    "df = df.drop('about', axis=1)\n",
    "df = df.drop('account_creation_date', axis=1)\n",
    "df = df.drop('token', axis=1)\n",
    "df = df.drop('gender', axis=1)\n",
    "df = df.drop('image_url', axis=1)\n",
    "df = df.drop('internal_id', axis=1)\n",
    "df = df.drop('message_url', axis=1)\n",
    "df = df.drop('received_timestamp', axis=1)\n",
    "df = df.drop('retweet_id', axis=1)\n",
    "df = df.drop('tweets', axis=1)\n",
    "df = df.drop('hashtag', axis=1)\n",
    "df = df.drop('language', axis=1)\n",
    "df = df.drop('location', axis=1)\n",
    "df = df.drop('platform_type', axis=1)\n",
    "df = df.drop('message_date', axis=1)\n",
    "df = df.drop('tweet_id', axis=1)\n",
    "df = df.drop('date', axis=1)\n",
    "df = df.drop('followers', axis=1)\n",
    "df = df.drop('retweet_count', axis=1)"
   ]
  },
  {
   "cell_type": "code",
   "execution_count": 7,
   "id": "5aacf261",
   "metadata": {},
   "outputs": [
    {
     "name": "stdout",
     "output_type": "stream",
     "text": [
      "                                      message_detail         username\n",
      "0  RT @YukselisGruplar: \"UÇAK DEDİĞİM DE KÜÇÜK Bİ...       ce34551935\n",
      "1  @TuNaBeYii Hocam kimden duyduysam bunun için k...       Kasmpaal16\n",
      "2  RT @SatyaSSRian1: It's high time   SERVE FAIR ...   GunjitBirSingh\n",
      "3  Ya tamam taraftara göre kadro kurulmaz falan d...  kafalarmatizmat\n",
      "4  RT @7ameMoo: hedef kitlem sonsuzluk #ankaratra...     shakGltekin3\n"
     ]
    }
   ],
   "source": [
    "sample_df = df.sample(n=100000)\n",
    "\n",
    "# write the sample DataFrame to a CSV file\n",
    "sample_df.to_csv('100000twtunlabeled.csv', index=False)\n",
    "\n",
    "# confirm that the new file was created and contains the expected data\n",
    "new_df = pd.read_csv('100000twtunlabeled.csv')\n",
    "print(new_df.head())"
   ]
  },
  {
   "cell_type": "code",
   "execution_count": null,
   "id": "8ad1a72b",
   "metadata": {},
   "outputs": [],
   "source": []
  },
  {
   "cell_type": "code",
   "execution_count": 96,
   "id": "01e5c3f6",
   "metadata": {},
   "outputs": [],
   "source": [
    "test_data = pd.read_csv('100000twtfinance.csv', sep=',')"
   ]
  },
  {
   "cell_type": "code",
   "execution_count": null,
   "id": "fd5247b4",
   "metadata": {},
   "outputs": [],
   "source": []
  },
  {
   "cell_type": "code",
   "execution_count": 207,
   "id": "79b6689f",
   "metadata": {},
   "outputs": [],
   "source": [
    "test_data = pd.read_csv('100000twtnotfinance.csv', sep=',')"
   ]
  },
  {
   "cell_type": "code",
   "execution_count": null,
   "id": "e85757ea",
   "metadata": {},
   "outputs": [],
   "source": []
  },
  {
   "cell_type": "code",
   "execution_count": null,
   "id": "9f702c23",
   "metadata": {},
   "outputs": [],
   "source": []
  },
  {
   "cell_type": "code",
   "execution_count": null,
   "id": "ee3768a8",
   "metadata": {},
   "outputs": [
    {
     "name": "stdout",
     "output_type": "stream",
     "text": [
      "message_detail    0\n",
      "username          0\n",
      "label             0\n",
      "dtype: int64\n",
      "message_detail     object\n",
      "username           object\n",
      "label             float64\n",
      "dtype: object\n",
      "message_detail    0\n",
      "username          0\n",
      "label             0\n",
      "dtype: int64\n",
      "message_detail     object\n",
      "username           object\n",
      "label             float64\n",
      "dtype: object\n"
     ]
    },
    {
     "name": "stderr",
     "output_type": "stream",
     "text": [
      "Some weights of the model checkpoint at dbmdz/bert-base-turkish-cased were not used when initializing BertForSequenceClassification: ['cls.predictions.transform.LayerNorm.bias', 'cls.predictions.transform.dense.bias', 'cls.predictions.transform.LayerNorm.weight', 'cls.seq_relationship.bias', 'cls.predictions.decoder.weight', 'cls.seq_relationship.weight', 'cls.predictions.transform.dense.weight', 'cls.predictions.bias', 'cls.predictions.decoder.bias']\n",
      "- This IS expected if you are initializing BertForSequenceClassification from the checkpoint of a model trained on another task or with another architecture (e.g. initializing a BertForSequenceClassification model from a BertForPreTraining model).\n",
      "- This IS NOT expected if you are initializing BertForSequenceClassification from the checkpoint of a model that you expect to be exactly identical (initializing a BertForSequenceClassification model from a BertForSequenceClassification model).\n",
      "Some weights of BertForSequenceClassification were not initialized from the model checkpoint at dbmdz/bert-base-turkish-cased and are newly initialized: ['classifier.weight', 'classifier.bias']\n",
      "You should probably TRAIN this model on a down-stream task to be able to use it for predictions and inference.\n"
     ]
    }
   ],
   "source": [
    "import pandas as pd\n",
    "import torch\n",
    "from transformers import BertTokenizer, BertForSequenceClassification\n",
    "from sklearn.metrics import accuracy_score\n",
    "\n",
    "# Load the labeled training sets and create input tensors\n",
    "# Assume that the training data is in CSV format with three columns: message_detail, username, and label\n",
    "train_data_1 = pd.read_csv('100000twtfinance.csv', sep=',')\n",
    "train_data_2 = pd.read_csv('100000twtnotfinance.csv', sep=',')\n",
    "\n",
    "train_data_1 = train_data_1.dropna(subset=['label'])\n",
    "train_data_2 = train_data_2.dropna(subset=['label'])\n",
    "\n",
    "print(train_data_1.isnull().sum())  # Check for NaN values\n",
    "print(train_data_1.dtypes)  # Check the data types of each column\n",
    "\n",
    "print(train_data_2.isnull().sum())  # Check for NaN values\n",
    "print(train_data_2.dtypes)  # Check the data types of each column\n",
    "\n",
    "train_texts_1 = train_data_1[\"message_detail\"].tolist()\n",
    "train_labels_1 = train_data_1[\"label\"].tolist()\n",
    "train_texts_2 = train_data_2[\"message_detail\"].tolist()\n",
    "train_labels_2 = train_data_2[\"label\"].tolist()\n",
    "\n",
    "# Remove missing or invalid labels\n",
    "train_labels_1 = [label for label in train_labels_1 if label == label] # Removes NaN values\n",
    "train_labels_2 = [label for label in train_labels_2 if label == label] # Removes NaN values\n",
    "\n",
    "# Convert labels to integers (if necessary)\n",
    "train_labels_1 = [int(label) for label in train_labels_1]\n",
    "train_labels_2 = [int(label) for label in train_labels_2]\n",
    "\n",
    "tokenizer = BertTokenizer.from_pretrained('dbmdz/bert-base-turkish-cased')\n",
    "\n",
    "train_encodings_1 = tokenizer(train_texts_1, truncation=True, padding=True, return_tensors=\"pt\")\n",
    "train_encodings_2 = tokenizer(train_texts_2, truncation=True, padding=True, return_tensors=\"pt\")\n",
    "\n",
    "# Check the size of the input tensors\n",
    "assert train_encodings_1[\"input_ids\"].size(0) == len(train_labels_1), \"Size mismatch between input_ids and labels\"\n",
    "assert train_encodings_1[\"attention_mask\"].size(0) == len(train_labels_1), \"Size mismatch between attention_mask and labels\"\n",
    "assert train_encodings_2[\"input_ids\"].size(0) == len(train_labels_2), \"Size mismatch between input_ids and labels\"\n",
    "assert train_encodings_2[\"attention_mask\"].size(0) == len(train_labels_2), \"Size mismatch between attention_mask and labels\"\n",
    "\n",
    "train_dataset_1 = torch.utils.data.TensorDataset(\n",
    "    train_encodings_1[\"input_ids\"],\n",
    "    train_encodings_1[\"attention_mask\"],\n",
    "    torch.tensor(train_labels_1),\n",
    ")\n",
    "\n",
    "train_dataset_2 = torch.utils.data.TensorDataset(\n",
    "    train_encodings_2[\"input_ids\"],\n",
    "    train_encodings_2[\"attention_mask\"],\n",
    "    torch.tensor(train_labels_2),\n",
    ")\n",
    "\n",
    "# Fine-tune the BERT model on the training sets\n",
    "model = BertForSequenceClassification.from_pretrained('dbmdz/bert-base-turkish-cased', num_labels=2)\n",
    "optimizer = torch.optim.AdamW(model.parameters(), lr=5e-5)\n",
    "device = torch.device(\"cuda\") if torch.cuda.is_available() else torch.device(\"cpu\")\n",
    "model.to(device)\n",
    "\n",
    "train_loader_1 = torch.utils.data.DataLoader(train_dataset_1, batch_size=8, shuffle=True)\n",
    "train_loader_2 = torch.utils.data.DataLoader(train_dataset_2, batch_size=8, shuffle=True)\n",
    "\n",
    "model.train()\n",
    "for epoch in range(3):\n",
    "    for batch in train_loader_1:\n",
    "        optimizer.zero_grad()\n",
    "        batch = tuple(t.to(device) for t in batch)\n",
    "        inputs = {\"input_ids\": batch[0], \"attention_mask\": batch[1], \"labels\": batch[2]}\n",
    "        outputs = model(**inputs)\n",
    "        loss = outputs.loss\n",
    "        loss.backward()\n",
    "        optimizer.step()\n",
    "\n",
    "    for batch in train_loader_2:\n",
    "        optimizer.zero_grad()\n",
    "        batch = tuple(t.to(device) for t in batch)\n",
    "        inputs = {\"input_ids\": batch[0], \"attention_mask\": batch[1], \"labels\": batch[2]}\n",
    "        outputs = model(**inputs)\n",
    "        loss = outputs.loss\n",
    "        loss.backward()\n",
    "        optimizer.step()\n",
    "\n",
    "# Load the test set and create input tensors\n",
    "# Assume that the test data is in CSV format with two columns: message_detail and username\n",
    "test_data = pd.read_csv('100000twtunlabeled.csv', sep=',')\n",
    "test_texts = test_data[\"message_detail\"].tolist()\n",
    "\n",
    "test_encodings = tokenizer(test_texts, truncation=True, padding=True, return_tensors=\"pt\")\n",
    "test_dataset = torch.utils.data.TensorDataset(\n",
    "    test_encodings[\"input_ids\"],\n",
    "    test_encodings[\"attention_mask\"],\n",
    ")\n",
    "\n",
    "# Use the trained model to make predictions on the test set\n",
    "model.eval()\n",
    "predictions = []\n",
    "for batch in torch.utils.data.DataLoader(test_dataset, batch_size=8):\n",
    "    batch = tuple(t.to(device) for t in batch)\n",
    "    with torch.no_grad():\n",
    "        inputs = {\"input_ids\": batch[0], \"attention_mask\": batch[1]}\n",
    "        outputs = model(**inputs)\n",
    "        logits = outputs.logits\n",
    "        batch_predictions = torch.argmax(logits, axis=1)\n",
    "        predictions.extend(batch_predictions.detach().cpu().numpy().tolist())\n",
    "\n",
    "# Print the accuracy of the model\n",
    "print(\"Accuracy:\", accuracy_score(predictions, [0] * len(predictions)))"
   ]
  },
  {
   "cell_type": "code",
   "execution_count": null,
   "id": "5c9e14b6",
   "metadata": {},
   "outputs": [],
   "source": [
    "# Use the fine-tuned BERT model to predict the labels of the test set\n",
    "model.eval()\n",
    "test_set_dataloader = torch.utils.data.DataLoader(test_dataset, batch_size=8)\n",
    "test_set_predictions = []\n",
    "\n",
    "for batch in test_set_dataloader:\n",
    "    batch_input_ids = batch[0].to(device)\n",
    "    batch_attention_masks = batch[1].to(device)\n",
    "\n",
    "    with torch.no_grad():\n",
    "        outputs = model(batch_input_ids, attention_mask=batch_attention_masks)\n",
    "\n",
    "    logits = outputs[0]\n",
    "    batch_predictions = logits.argmax(dim=-1).tolist()\n",
    "    test_set_predictions.extend(batch_predictions)\n",
    "\n",
    "# Print the Text and the predicted label of each example in the test set\n",
    "for i, text in enumerate(test_texts):\n",
    "    label = test_set_predictions[i]\n",
    "    print(f\"{message_detail}\\n{label}\\n\")"
   ]
  },
  {
   "cell_type": "code",
   "execution_count": null,
   "id": "3d11a4ec",
   "metadata": {},
   "outputs": [],
   "source": []
  },
  {
   "cell_type": "code",
   "execution_count": null,
   "id": "d8d56cd5",
   "metadata": {},
   "outputs": [],
   "source": []
  },
  {
   "cell_type": "code",
   "execution_count": null,
   "id": "b10271fe",
   "metadata": {},
   "outputs": [],
   "source": []
  }
 ],
 "metadata": {
  "kernelspec": {
   "display_name": "Python 3 (ipykernel)",
   "language": "python",
   "name": "python3"
  },
  "language_info": {
   "codemirror_mode": {
    "name": "ipython",
    "version": 3
   },
   "file_extension": ".py",
   "mimetype": "text/x-python",
   "name": "python",
   "nbconvert_exporter": "python",
   "pygments_lexer": "ipython3",
   "version": "3.11.3"
  }
 },
 "nbformat": 4,
 "nbformat_minor": 5
}
